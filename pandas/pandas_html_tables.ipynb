{
 "cells": [
  {
   "cell_type": "code",
   "execution_count": 1,
   "metadata": {
    "collapsed": true,
    "ExecuteTime": {
     "end_time": "2023-07-17T20:31:31.351226Z",
     "start_time": "2023-07-17T20:31:30.940478Z"
    }
   },
   "outputs": [],
   "source": [
    "import pandas as pd"
   ]
  },
  {
   "cell_type": "code",
   "execution_count": 2,
   "outputs": [],
   "source": [
    "url = 'https://en.wikipedia.org/wiki/World_population'"
   ],
   "metadata": {
    "collapsed": false,
    "ExecuteTime": {
     "end_time": "2023-07-17T20:35:29.811221Z",
     "start_time": "2023-07-17T20:35:29.805713Z"
    }
   }
  },
  {
   "cell_type": "code",
   "execution_count": 3,
   "outputs": [],
   "source": [
    "tables = pd.read_html(url)"
   ],
   "metadata": {
    "collapsed": false,
    "ExecuteTime": {
     "end_time": "2023-07-17T20:36:45.999366Z",
     "start_time": "2023-07-17T20:36:44.824056Z"
    }
   }
  },
  {
   "cell_type": "code",
   "execution_count": 4,
   "outputs": [
    {
     "data": {
      "text/plain": "29"
     },
     "execution_count": 4,
     "metadata": {},
     "output_type": "execute_result"
    }
   ],
   "source": [
    "len(tables)"
   ],
   "metadata": {
    "collapsed": false,
    "ExecuteTime": {
     "end_time": "2023-07-17T20:36:52.659002Z",
     "start_time": "2023-07-17T20:36:52.655098Z"
    }
   }
  },
  {
   "cell_type": "code",
   "execution_count": 5,
   "outputs": [
    {
     "data": {
      "text/plain": "      Population         1     2     3     4     5     6     7     8     9  \\\n0           Year      1804  1930  1960  1974  1987  1999  2011  2022  2037   \n1  Years elapsed  200,000+   126    30    14    13    12    12    11    15   \n\n     10  \n0  2057  \n1    20  ",
      "text/html": "<div>\n<style scoped>\n    .dataframe tbody tr th:only-of-type {\n        vertical-align: middle;\n    }\n\n    .dataframe tbody tr th {\n        vertical-align: top;\n    }\n\n    .dataframe thead th {\n        text-align: right;\n    }\n</style>\n<table border=\"1\" class=\"dataframe\">\n  <thead>\n    <tr style=\"text-align: right;\">\n      <th></th>\n      <th>Population</th>\n      <th>1</th>\n      <th>2</th>\n      <th>3</th>\n      <th>4</th>\n      <th>5</th>\n      <th>6</th>\n      <th>7</th>\n      <th>8</th>\n      <th>9</th>\n      <th>10</th>\n    </tr>\n  </thead>\n  <tbody>\n    <tr>\n      <th>0</th>\n      <td>Year</td>\n      <td>1804</td>\n      <td>1930</td>\n      <td>1960</td>\n      <td>1974</td>\n      <td>1987</td>\n      <td>1999</td>\n      <td>2011</td>\n      <td>2022</td>\n      <td>2037</td>\n      <td>2057</td>\n    </tr>\n    <tr>\n      <th>1</th>\n      <td>Years elapsed</td>\n      <td>200,000+</td>\n      <td>126</td>\n      <td>30</td>\n      <td>14</td>\n      <td>13</td>\n      <td>12</td>\n      <td>12</td>\n      <td>11</td>\n      <td>15</td>\n      <td>20</td>\n    </tr>\n  </tbody>\n</table>\n</div>"
     },
     "execution_count": 5,
     "metadata": {},
     "output_type": "execute_result"
    }
   ],
   "source": [
    "tables[0]"
   ],
   "metadata": {
    "collapsed": false,
    "ExecuteTime": {
     "end_time": "2023-07-17T20:37:27.551716Z",
     "start_time": "2023-07-17T20:37:27.543268Z"
    }
   }
  },
  {
   "cell_type": "code",
   "execution_count": 6,
   "outputs": [
    {
     "data": {
      "text/plain": "                             Region  2022 (percent)  2030 (percent)  \\\n0                Sub-Saharan Africa  1,152 (14.51%)  1,401 (16.46%)   \n1  Northern Africa and Western Asia     549 (6.91%)     617 (7.25%)   \n2         Central and Southern Asia  2,075 (26.13%)  2,248 (26.41%)   \n3     Eastern and Southeastern Asia  2,342 (29.49%)  2,372 (27.87%)   \n4       Europe and Northern America  1,120 (14.10%)  1,129 (13.26%)   \n5   Latin America and the Caribbean     658 (8.29%)     695 (8.17%)   \n6             Australia/New Zealand      31 (0.39%)      34 (0.40%)   \n7                     Other Oceania      14 (0.18%)      15 (0.18%)   \n8                             World            7942            8512   \n\n   2050 (percent)  \n0  2,094 (21.62%)  \n1     771 (7.96%)  \n2  2,575 (26.58%)  \n3  2,317 (23.92%)  \n4  1,125 (11.61%)  \n5     749 (7.73%)  \n6      38 (0.39%)  \n7      20 (0.21%)  \n8            9687  ",
      "text/html": "<div>\n<style scoped>\n    .dataframe tbody tr th:only-of-type {\n        vertical-align: middle;\n    }\n\n    .dataframe tbody tr th {\n        vertical-align: top;\n    }\n\n    .dataframe thead th {\n        text-align: right;\n    }\n</style>\n<table border=\"1\" class=\"dataframe\">\n  <thead>\n    <tr style=\"text-align: right;\">\n      <th></th>\n      <th>Region</th>\n      <th>2022 (percent)</th>\n      <th>2030 (percent)</th>\n      <th>2050 (percent)</th>\n    </tr>\n  </thead>\n  <tbody>\n    <tr>\n      <th>0</th>\n      <td>Sub-Saharan Africa</td>\n      <td>1,152 (14.51%)</td>\n      <td>1,401 (16.46%)</td>\n      <td>2,094 (21.62%)</td>\n    </tr>\n    <tr>\n      <th>1</th>\n      <td>Northern Africa and Western Asia</td>\n      <td>549 (6.91%)</td>\n      <td>617 (7.25%)</td>\n      <td>771 (7.96%)</td>\n    </tr>\n    <tr>\n      <th>2</th>\n      <td>Central and Southern Asia</td>\n      <td>2,075 (26.13%)</td>\n      <td>2,248 (26.41%)</td>\n      <td>2,575 (26.58%)</td>\n    </tr>\n    <tr>\n      <th>3</th>\n      <td>Eastern and Southeastern Asia</td>\n      <td>2,342 (29.49%)</td>\n      <td>2,372 (27.87%)</td>\n      <td>2,317 (23.92%)</td>\n    </tr>\n    <tr>\n      <th>4</th>\n      <td>Europe and Northern America</td>\n      <td>1,120 (14.10%)</td>\n      <td>1,129 (13.26%)</td>\n      <td>1,125 (11.61%)</td>\n    </tr>\n    <tr>\n      <th>5</th>\n      <td>Latin America and the Caribbean</td>\n      <td>658 (8.29%)</td>\n      <td>695 (8.17%)</td>\n      <td>749 (7.73%)</td>\n    </tr>\n    <tr>\n      <th>6</th>\n      <td>Australia/New Zealand</td>\n      <td>31 (0.39%)</td>\n      <td>34 (0.40%)</td>\n      <td>38 (0.39%)</td>\n    </tr>\n    <tr>\n      <th>7</th>\n      <td>Other Oceania</td>\n      <td>14 (0.18%)</td>\n      <td>15 (0.18%)</td>\n      <td>20 (0.21%)</td>\n    </tr>\n    <tr>\n      <th>8</th>\n      <td>World</td>\n      <td>7942</td>\n      <td>8512</td>\n      <td>9687</td>\n    </tr>\n  </tbody>\n</table>\n</div>"
     },
     "execution_count": 6,
     "metadata": {},
     "output_type": "execute_result"
    }
   ],
   "source": [
    "tables[1]"
   ],
   "metadata": {
    "collapsed": false,
    "ExecuteTime": {
     "end_time": "2023-07-17T20:38:05.418837Z",
     "start_time": "2023-07-17T20:38:05.416062Z"
    }
   }
  },
  {
   "cell_type": "code",
   "execution_count": 26,
   "outputs": [
    {
     "data": {
      "text/plain": "                     Region Density (inhabitants/km2) Population (millions)  \\\n0                      Asia                     104.1                  4641   \n1                    Africa                      44.4                  1340   \n2                    Europe                      73.4                   747   \n3             Latin America                      24.1                   653   \n4  Northern America[note 1]                      14.9                   368   \n5                   Oceania                         5                    42   \n6                Antarctica                        ~0             0.004[89]   \n\n                               Most populous country  \\\n0                              1,418,459,382 – India   \n1                            0,211,401,000 – Nigeria   \n2  0,146,171,000 – Russia, approx. 110 million in...   \n3                             0,214,103,000 – Brazil   \n4                      0,332,909,000 – United States   \n5                          0,025,917,000 – Australia   \n6                                        N/A[note 2]   \n\n              Most populous city (metropolitan area)  \n0  13,515,000 – Tokyo Metropolis (37,400,000 – Gr...  \n1    09,500,000 – Cairo (20,076,000 – Greater Cairo)  \n2  13,200,000 – Moscow (20,004,000 – Moscow metro...  \n3  12,252,000 – São Paulo City (21,650,000 – São ...  \n4  08,804,000 – New York City (23,582,649 – New Y...  \n5                                05,367,000 – Sydney  \n6                       00,001,258 – McMurdo Station  ",
      "text/html": "<div>\n<style scoped>\n    .dataframe tbody tr th:only-of-type {\n        vertical-align: middle;\n    }\n\n    .dataframe tbody tr th {\n        vertical-align: top;\n    }\n\n    .dataframe thead th {\n        text-align: right;\n    }\n</style>\n<table border=\"1\" class=\"dataframe\">\n  <thead>\n    <tr style=\"text-align: right;\">\n      <th></th>\n      <th>Region</th>\n      <th>Density (inhabitants/km2)</th>\n      <th>Population (millions)</th>\n      <th>Most populous country</th>\n      <th>Most populous city (metropolitan area)</th>\n    </tr>\n  </thead>\n  <tbody>\n    <tr>\n      <th>0</th>\n      <td>Asia</td>\n      <td>104.1</td>\n      <td>4641</td>\n      <td>1,418,459,382 – India</td>\n      <td>13,515,000 – Tokyo Metropolis (37,400,000 – Gr...</td>\n    </tr>\n    <tr>\n      <th>1</th>\n      <td>Africa</td>\n      <td>44.4</td>\n      <td>1340</td>\n      <td>0,211,401,000 – Nigeria</td>\n      <td>09,500,000 – Cairo (20,076,000 – Greater Cairo)</td>\n    </tr>\n    <tr>\n      <th>2</th>\n      <td>Europe</td>\n      <td>73.4</td>\n      <td>747</td>\n      <td>0,146,171,000 – Russia, approx. 110 million in...</td>\n      <td>13,200,000 – Moscow (20,004,000 – Moscow metro...</td>\n    </tr>\n    <tr>\n      <th>3</th>\n      <td>Latin America</td>\n      <td>24.1</td>\n      <td>653</td>\n      <td>0,214,103,000 – Brazil</td>\n      <td>12,252,000 – São Paulo City (21,650,000 – São ...</td>\n    </tr>\n    <tr>\n      <th>4</th>\n      <td>Northern America[note 1]</td>\n      <td>14.9</td>\n      <td>368</td>\n      <td>0,332,909,000 – United States</td>\n      <td>08,804,000 – New York City (23,582,649 – New Y...</td>\n    </tr>\n    <tr>\n      <th>5</th>\n      <td>Oceania</td>\n      <td>5</td>\n      <td>42</td>\n      <td>0,025,917,000 – Australia</td>\n      <td>05,367,000 – Sydney</td>\n    </tr>\n    <tr>\n      <th>6</th>\n      <td>Antarctica</td>\n      <td>~0</td>\n      <td>0.004[89]</td>\n      <td>N/A[note 2]</td>\n      <td>00,001,258 – McMurdo Station</td>\n    </tr>\n  </tbody>\n</table>\n</div>"
     },
     "execution_count": 26,
     "metadata": {},
     "output_type": "execute_result"
    }
   ],
   "source": [
    "tables[3]"
   ],
   "metadata": {
    "collapsed": false,
    "ExecuteTime": {
     "end_time": "2023-07-17T20:40:08.102425Z",
     "start_time": "2023-07-17T20:40:08.099797Z"
    }
   }
  },
  {
   "cell_type": "code",
   "execution_count": 27,
   "outputs": [],
   "source": [
    "world_topten = tables[3]"
   ],
   "metadata": {
    "collapsed": false,
    "ExecuteTime": {
     "end_time": "2023-07-17T20:43:15.177605Z",
     "start_time": "2023-07-17T20:43:15.172868Z"
    }
   }
  },
  {
   "cell_type": "code",
   "execution_count": 29,
   "outputs": [],
   "source": [
    "world_topten = world_topten['Population (millions)']"
   ],
   "metadata": {
    "collapsed": false,
    "ExecuteTime": {
     "end_time": "2023-07-17T20:45:03.042388Z",
     "start_time": "2023-07-17T20:45:03.037790Z"
    }
   }
  },
  {
   "cell_type": "code",
   "execution_count": 30,
   "outputs": [
    {
     "data": {
      "text/plain": "0         4641\n1         1340\n2          747\n3          653\n4          368\n5           42\n6    0.004[89]\nName: Population (millions), dtype: object"
     },
     "execution_count": 30,
     "metadata": {},
     "output_type": "execute_result"
    }
   ],
   "source": [
    "world_topten"
   ],
   "metadata": {
    "collapsed": false,
    "ExecuteTime": {
     "end_time": "2023-07-17T20:45:16.474761Z",
     "start_time": "2023-07-17T20:45:16.470592Z"
    }
   }
  },
  {
   "cell_type": "code",
   "execution_count": 33,
   "outputs": [
    {
     "data": {
      "text/plain": "   Rank Country / Dependency  Population  Percentage of the world  \\\n0     1                India  1425775850                      NaN   \n1     2                China  1412600000                      NaN   \n2     3        United States   335080925                      NaN   \n3     4            Indonesia   275773800                      NaN   \n4     5             Pakistan   229488994                      NaN   \n5     6              Nigeria   216746934                      NaN   \n6     7               Brazil   216405333                      NaN   \n7     8           Bangladesh   168220000                      NaN   \n8     9               Russia   147190000                      NaN   \n9    10               Mexico   128271248                      NaN   \n\n          Date Source (official or from the United Nations)  \n0  14 Apr 2023                            UN projection[92]  \n1  31 Dec 2021                 National annual estimate[93]  \n2  17 Jul 2023                National population clock[94]  \n3   1 Jul 2022                 National annual estimate[95]  \n4   1 Jul 2022                            UN projection[96]  \n5   1 Jul 2022                            UN projection[96]  \n6  17 Jul 2023                National population clock[97]  \n7   1 Jul 2020               Annual Population Estimate[98]  \n8   1 Oct 2021          2021 preliminary census results[99]  \n9  31 Mar 2022                                          NaN  ",
      "text/html": "<div>\n<style scoped>\n    .dataframe tbody tr th:only-of-type {\n        vertical-align: middle;\n    }\n\n    .dataframe tbody tr th {\n        vertical-align: top;\n    }\n\n    .dataframe thead th {\n        text-align: right;\n    }\n</style>\n<table border=\"1\" class=\"dataframe\">\n  <thead>\n    <tr style=\"text-align: right;\">\n      <th></th>\n      <th>Rank</th>\n      <th>Country / Dependency</th>\n      <th>Population</th>\n      <th>Percentage of the world</th>\n      <th>Date</th>\n      <th>Source (official or from the United Nations)</th>\n    </tr>\n  </thead>\n  <tbody>\n    <tr>\n      <th>0</th>\n      <td>1</td>\n      <td>India</td>\n      <td>1425775850</td>\n      <td>NaN</td>\n      <td>14 Apr 2023</td>\n      <td>UN projection[92]</td>\n    </tr>\n    <tr>\n      <th>1</th>\n      <td>2</td>\n      <td>China</td>\n      <td>1412600000</td>\n      <td>NaN</td>\n      <td>31 Dec 2021</td>\n      <td>National annual estimate[93]</td>\n    </tr>\n    <tr>\n      <th>2</th>\n      <td>3</td>\n      <td>United States</td>\n      <td>335080925</td>\n      <td>NaN</td>\n      <td>17 Jul 2023</td>\n      <td>National population clock[94]</td>\n    </tr>\n    <tr>\n      <th>3</th>\n      <td>4</td>\n      <td>Indonesia</td>\n      <td>275773800</td>\n      <td>NaN</td>\n      <td>1 Jul 2022</td>\n      <td>National annual estimate[95]</td>\n    </tr>\n    <tr>\n      <th>4</th>\n      <td>5</td>\n      <td>Pakistan</td>\n      <td>229488994</td>\n      <td>NaN</td>\n      <td>1 Jul 2022</td>\n      <td>UN projection[96]</td>\n    </tr>\n    <tr>\n      <th>5</th>\n      <td>6</td>\n      <td>Nigeria</td>\n      <td>216746934</td>\n      <td>NaN</td>\n      <td>1 Jul 2022</td>\n      <td>UN projection[96]</td>\n    </tr>\n    <tr>\n      <th>6</th>\n      <td>7</td>\n      <td>Brazil</td>\n      <td>216405333</td>\n      <td>NaN</td>\n      <td>17 Jul 2023</td>\n      <td>National population clock[97]</td>\n    </tr>\n    <tr>\n      <th>7</th>\n      <td>8</td>\n      <td>Bangladesh</td>\n      <td>168220000</td>\n      <td>NaN</td>\n      <td>1 Jul 2020</td>\n      <td>Annual Population Estimate[98]</td>\n    </tr>\n    <tr>\n      <th>8</th>\n      <td>9</td>\n      <td>Russia</td>\n      <td>147190000</td>\n      <td>NaN</td>\n      <td>1 Oct 2021</td>\n      <td>2021 preliminary census results[99]</td>\n    </tr>\n    <tr>\n      <th>9</th>\n      <td>10</td>\n      <td>Mexico</td>\n      <td>128271248</td>\n      <td>NaN</td>\n      <td>31 Mar 2022</td>\n      <td>NaN</td>\n    </tr>\n  </tbody>\n</table>\n</div>"
     },
     "execution_count": 33,
     "metadata": {},
     "output_type": "execute_result"
    }
   ],
   "source": [
    "tables[4]"
   ],
   "metadata": {
    "collapsed": false,
    "ExecuteTime": {
     "end_time": "2023-07-17T20:48:36.219942Z",
     "start_time": "2023-07-17T20:48:36.213661Z"
    }
   }
  },
  {
   "cell_type": "code",
   "execution_count": 54,
   "outputs": [],
   "source": [
    "topten = tables[4]"
   ],
   "metadata": {
    "collapsed": false,
    "ExecuteTime": {
     "end_time": "2023-07-17T20:54:30.413637Z",
     "start_time": "2023-07-17T20:54:30.407303Z"
    }
   }
  },
  {
   "cell_type": "code",
   "execution_count": 55,
   "outputs": [],
   "source": [
    "topten = topten.drop('Source (official or from the United Nations)', axis=1)\n",
    "topten = topten.drop('Percentage of the world', axis=1)\n",
    "topten.columns = ['Rank', 'Country / Dependency', 'Population', 'Date']"
   ],
   "metadata": {
    "collapsed": false,
    "ExecuteTime": {
     "end_time": "2023-07-17T20:54:30.725515Z",
     "start_time": "2023-07-17T20:54:30.719781Z"
    }
   }
  },
  {
   "cell_type": "code",
   "execution_count": 56,
   "outputs": [
    {
     "data": {
      "text/plain": "   Rank Country / Dependency  Population         Date\n0     1                India  1425775850  14 Apr 2023\n1     2                China  1412600000  31 Dec 2021\n2     3        United States   335080925  17 Jul 2023\n3     4            Indonesia   275773800   1 Jul 2022\n4     5             Pakistan   229488994   1 Jul 2022\n5     6              Nigeria   216746934   1 Jul 2022\n6     7               Brazil   216405333  17 Jul 2023\n7     8           Bangladesh   168220000   1 Jul 2020\n8     9               Russia   147190000   1 Oct 2021\n9    10               Mexico   128271248  31 Mar 2022",
      "text/html": "<div>\n<style scoped>\n    .dataframe tbody tr th:only-of-type {\n        vertical-align: middle;\n    }\n\n    .dataframe tbody tr th {\n        vertical-align: top;\n    }\n\n    .dataframe thead th {\n        text-align: right;\n    }\n</style>\n<table border=\"1\" class=\"dataframe\">\n  <thead>\n    <tr style=\"text-align: right;\">\n      <th></th>\n      <th>Rank</th>\n      <th>Country / Dependency</th>\n      <th>Population</th>\n      <th>Date</th>\n    </tr>\n  </thead>\n  <tbody>\n    <tr>\n      <th>0</th>\n      <td>1</td>\n      <td>India</td>\n      <td>1425775850</td>\n      <td>14 Apr 2023</td>\n    </tr>\n    <tr>\n      <th>1</th>\n      <td>2</td>\n      <td>China</td>\n      <td>1412600000</td>\n      <td>31 Dec 2021</td>\n    </tr>\n    <tr>\n      <th>2</th>\n      <td>3</td>\n      <td>United States</td>\n      <td>335080925</td>\n      <td>17 Jul 2023</td>\n    </tr>\n    <tr>\n      <th>3</th>\n      <td>4</td>\n      <td>Indonesia</td>\n      <td>275773800</td>\n      <td>1 Jul 2022</td>\n    </tr>\n    <tr>\n      <th>4</th>\n      <td>5</td>\n      <td>Pakistan</td>\n      <td>229488994</td>\n      <td>1 Jul 2022</td>\n    </tr>\n    <tr>\n      <th>5</th>\n      <td>6</td>\n      <td>Nigeria</td>\n      <td>216746934</td>\n      <td>1 Jul 2022</td>\n    </tr>\n    <tr>\n      <th>6</th>\n      <td>7</td>\n      <td>Brazil</td>\n      <td>216405333</td>\n      <td>17 Jul 2023</td>\n    </tr>\n    <tr>\n      <th>7</th>\n      <td>8</td>\n      <td>Bangladesh</td>\n      <td>168220000</td>\n      <td>1 Jul 2020</td>\n    </tr>\n    <tr>\n      <th>8</th>\n      <td>9</td>\n      <td>Russia</td>\n      <td>147190000</td>\n      <td>1 Oct 2021</td>\n    </tr>\n    <tr>\n      <th>9</th>\n      <td>10</td>\n      <td>Mexico</td>\n      <td>128271248</td>\n      <td>31 Mar 2022</td>\n    </tr>\n  </tbody>\n</table>\n</div>"
     },
     "execution_count": 56,
     "metadata": {},
     "output_type": "execute_result"
    }
   ],
   "source": [
    "topten"
   ],
   "metadata": {
    "collapsed": false,
    "ExecuteTime": {
     "end_time": "2023-07-17T20:54:31.266567Z",
     "start_time": "2023-07-17T20:54:31.260398Z"
    }
   }
  },
  {
   "cell_type": "code",
   "execution_count": null,
   "outputs": [],
   "source": [],
   "metadata": {
    "collapsed": false
   }
  }
 ],
 "metadata": {
  "kernelspec": {
   "display_name": "Python 3",
   "language": "python",
   "name": "python3"
  },
  "language_info": {
   "codemirror_mode": {
    "name": "ipython",
    "version": 2
   },
   "file_extension": ".py",
   "mimetype": "text/x-python",
   "name": "python",
   "nbconvert_exporter": "python",
   "pygments_lexer": "ipython2",
   "version": "2.7.6"
  }
 },
 "nbformat": 4,
 "nbformat_minor": 0
}
