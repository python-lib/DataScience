{
 "cells": [
  {
   "cell_type": "code",
   "execution_count": 1,
   "metadata": {
    "collapsed": true,
    "ExecuteTime": {
     "end_time": "2023-07-17T18:31:20.418819Z",
     "start_time": "2023-07-17T18:31:19.950069Z"
    }
   },
   "outputs": [],
   "source": [
    "import numpy as np\n",
    "import pandas as pd\n",
    "from datetime import datetime"
   ]
  },
  {
   "cell_type": "code",
   "execution_count": 2,
   "outputs": [],
   "source": [
    "myyear = 2010\n",
    "mymonth = 4\n",
    "myday = 25\n",
    "myhour = 2\n",
    "myminute = 30\n",
    "mysecond = 25"
   ],
   "metadata": {
    "collapsed": false,
    "ExecuteTime": {
     "end_time": "2023-07-17T18:33:20.655870Z",
     "start_time": "2023-07-17T18:33:20.651677Z"
    }
   }
  },
  {
   "cell_type": "code",
   "execution_count": 3,
   "outputs": [],
   "source": [
    "mydate = datetime(myyear, mymonth, myday)"
   ],
   "metadata": {
    "collapsed": false,
    "ExecuteTime": {
     "end_time": "2023-07-17T18:33:52.634544Z",
     "start_time": "2023-07-17T18:33:52.631248Z"
    }
   }
  },
  {
   "cell_type": "code",
   "execution_count": 4,
   "outputs": [
    {
     "data": {
      "text/plain": "datetime.datetime(2010, 4, 25, 0, 0)"
     },
     "execution_count": 4,
     "metadata": {},
     "output_type": "execute_result"
    }
   ],
   "source": [
    "mydate"
   ],
   "metadata": {
    "collapsed": false,
    "ExecuteTime": {
     "end_time": "2023-07-17T18:33:57.712541Z",
     "start_time": "2023-07-17T18:33:57.709147Z"
    }
   }
  },
  {
   "cell_type": "code",
   "execution_count": 5,
   "outputs": [],
   "source": [
    "mydatetime = datetime(myyear, mymonth, myday, myhour, myminute, mysecond)"
   ],
   "metadata": {
    "collapsed": false,
    "ExecuteTime": {
     "end_time": "2023-07-17T18:34:51.882339Z",
     "start_time": "2023-07-17T18:34:51.878560Z"
    }
   }
  },
  {
   "cell_type": "code",
   "execution_count": 6,
   "outputs": [
    {
     "data": {
      "text/plain": "datetime.datetime(2010, 4, 25, 2, 30, 25)"
     },
     "execution_count": 6,
     "metadata": {},
     "output_type": "execute_result"
    }
   ],
   "source": [
    "mydatetime"
   ],
   "metadata": {
    "collapsed": false,
    "ExecuteTime": {
     "end_time": "2023-07-17T18:34:56.641446Z",
     "start_time": "2023-07-17T18:34:56.638763Z"
    }
   }
  },
  {
   "cell_type": "code",
   "execution_count": 7,
   "outputs": [
    {
     "data": {
      "text/plain": "2010"
     },
     "execution_count": 7,
     "metadata": {},
     "output_type": "execute_result"
    }
   ],
   "source": [
    "mydatetime.year"
   ],
   "metadata": {
    "collapsed": false,
    "ExecuteTime": {
     "end_time": "2023-07-17T18:35:48.687203Z",
     "start_time": "2023-07-17T18:35:48.682053Z"
    }
   }
  },
  {
   "cell_type": "code",
   "execution_count": 8,
   "outputs": [],
   "source": [
    "myser = pd.Series(['April 25, 2015', '2000-01-01', None])"
   ],
   "metadata": {
    "collapsed": false,
    "ExecuteTime": {
     "end_time": "2023-07-17T18:36:51.322166Z",
     "start_time": "2023-07-17T18:36:51.317933Z"
    }
   }
  },
  {
   "cell_type": "code",
   "execution_count": 9,
   "outputs": [
    {
     "data": {
      "text/plain": "0    April 25, 2015\n1        2000-01-01\n2              None\ndtype: object"
     },
     "execution_count": 9,
     "metadata": {},
     "output_type": "execute_result"
    }
   ],
   "source": [
    "myser"
   ],
   "metadata": {
    "collapsed": false,
    "ExecuteTime": {
     "end_time": "2023-07-17T18:36:57.760562Z",
     "start_time": "2023-07-17T18:36:57.757077Z"
    }
   }
  },
  {
   "cell_type": "code",
   "execution_count": 10,
   "outputs": [],
   "source": [
    "timeser = pd.to_datetime(myser)"
   ],
   "metadata": {
    "collapsed": false,
    "ExecuteTime": {
     "end_time": "2023-07-17T18:38:59.286390Z",
     "start_time": "2023-07-17T18:38:59.283449Z"
    }
   }
  },
  {
   "cell_type": "code",
   "execution_count": 11,
   "outputs": [
    {
     "data": {
      "text/plain": "Timestamp('2015-04-25 00:00:00')"
     },
     "execution_count": 11,
     "metadata": {},
     "output_type": "execute_result"
    }
   ],
   "source": [
    "timeser[0]"
   ],
   "metadata": {
    "collapsed": false,
    "ExecuteTime": {
     "end_time": "2023-07-17T18:39:04.554891Z",
     "start_time": "2023-07-17T18:39:04.550768Z"
    }
   }
  },
  {
   "cell_type": "code",
   "execution_count": 12,
   "outputs": [
    {
     "data": {
      "text/plain": "Timestamp('2000-01-01 00:00:00')"
     },
     "execution_count": 12,
     "metadata": {},
     "output_type": "execute_result"
    }
   ],
   "source": [
    "timeser[1]"
   ],
   "metadata": {
    "collapsed": false,
    "ExecuteTime": {
     "end_time": "2023-07-17T18:39:12.863760Z",
     "start_time": "2023-07-17T18:39:12.859550Z"
    }
   }
  },
  {
   "cell_type": "code",
   "execution_count": 13,
   "outputs": [],
   "source": [
    "euro_date = '10-12-2010'"
   ],
   "metadata": {
    "collapsed": false,
    "ExecuteTime": {
     "end_time": "2023-07-17T18:41:27.882705Z",
     "start_time": "2023-07-17T18:41:27.879818Z"
    }
   }
  },
  {
   "cell_type": "code",
   "execution_count": 15,
   "outputs": [
    {
     "data": {
      "text/plain": "Timestamp('2010-12-10 00:00:00')"
     },
     "execution_count": 15,
     "metadata": {},
     "output_type": "execute_result"
    }
   ],
   "source": [
    "pd.to_datetime(euro_date, dayfirst=True)"
   ],
   "metadata": {
    "collapsed": false,
    "ExecuteTime": {
     "end_time": "2023-07-17T18:41:55.340249Z",
     "start_time": "2023-07-17T18:41:55.336497Z"
    }
   }
  },
  {
   "cell_type": "code",
   "execution_count": 16,
   "outputs": [],
   "source": [
    "style_date = '12--Dec--2000'"
   ],
   "metadata": {
    "collapsed": false,
    "ExecuteTime": {
     "end_time": "2023-07-17T18:55:45.459338Z",
     "start_time": "2023-07-17T18:55:45.454920Z"
    }
   }
  },
  {
   "cell_type": "code",
   "execution_count": 17,
   "outputs": [
    {
     "data": {
      "text/plain": "Timestamp('2000-12-12 00:00:00')"
     },
     "execution_count": 17,
     "metadata": {},
     "output_type": "execute_result"
    }
   ],
   "source": [
    "pd.to_datetime(style_date,format='%d--%b--%Y')"
   ],
   "metadata": {
    "collapsed": false,
    "ExecuteTime": {
     "end_time": "2023-07-17T18:57:21.437617Z",
     "start_time": "2023-07-17T18:57:21.432556Z"
    }
   }
  },
  {
   "cell_type": "code",
   "execution_count": 18,
   "outputs": [],
   "source": [
    "sales = pd.read_csv('RetailSales_BeerWineLiquor.csv')"
   ],
   "metadata": {
    "collapsed": false,
    "ExecuteTime": {
     "end_time": "2023-07-17T20:03:44.853366Z",
     "start_time": "2023-07-17T20:03:44.828601Z"
    }
   }
  },
  {
   "cell_type": "code",
   "execution_count": 19,
   "outputs": [
    {
     "data": {
      "text/plain": "           DATE  MRTSSM4453USN\n0    1992-01-01           1509\n1    1992-02-01           1541\n2    1992-03-01           1597\n3    1992-04-01           1675\n4    1992-05-01           1822\n..          ...            ...\n335  2019-12-01           6630\n336  2020-01-01           4388\n337  2020-02-01           4533\n338  2020-03-01           5562\n339  2020-04-01           5207\n\n[340 rows x 2 columns]",
      "text/html": "<div>\n<style scoped>\n    .dataframe tbody tr th:only-of-type {\n        vertical-align: middle;\n    }\n\n    .dataframe tbody tr th {\n        vertical-align: top;\n    }\n\n    .dataframe thead th {\n        text-align: right;\n    }\n</style>\n<table border=\"1\" class=\"dataframe\">\n  <thead>\n    <tr style=\"text-align: right;\">\n      <th></th>\n      <th>DATE</th>\n      <th>MRTSSM4453USN</th>\n    </tr>\n  </thead>\n  <tbody>\n    <tr>\n      <th>0</th>\n      <td>1992-01-01</td>\n      <td>1509</td>\n    </tr>\n    <tr>\n      <th>1</th>\n      <td>1992-02-01</td>\n      <td>1541</td>\n    </tr>\n    <tr>\n      <th>2</th>\n      <td>1992-03-01</td>\n      <td>1597</td>\n    </tr>\n    <tr>\n      <th>3</th>\n      <td>1992-04-01</td>\n      <td>1675</td>\n    </tr>\n    <tr>\n      <th>4</th>\n      <td>1992-05-01</td>\n      <td>1822</td>\n    </tr>\n    <tr>\n      <th>...</th>\n      <td>...</td>\n      <td>...</td>\n    </tr>\n    <tr>\n      <th>335</th>\n      <td>2019-12-01</td>\n      <td>6630</td>\n    </tr>\n    <tr>\n      <th>336</th>\n      <td>2020-01-01</td>\n      <td>4388</td>\n    </tr>\n    <tr>\n      <th>337</th>\n      <td>2020-02-01</td>\n      <td>4533</td>\n    </tr>\n    <tr>\n      <th>338</th>\n      <td>2020-03-01</td>\n      <td>5562</td>\n    </tr>\n    <tr>\n      <th>339</th>\n      <td>2020-04-01</td>\n      <td>5207</td>\n    </tr>\n  </tbody>\n</table>\n<p>340 rows × 2 columns</p>\n</div>"
     },
     "execution_count": 19,
     "metadata": {},
     "output_type": "execute_result"
    }
   ],
   "source": [
    "sales"
   ],
   "metadata": {
    "collapsed": false,
    "ExecuteTime": {
     "end_time": "2023-07-17T20:03:47.109033Z",
     "start_time": "2023-07-17T20:03:47.104579Z"
    }
   }
  },
  {
   "cell_type": "code",
   "execution_count": 20,
   "outputs": [],
   "source": [
    "sales['DATE'] = pd.to_datetime(sales['DATE'])"
   ],
   "metadata": {
    "collapsed": false,
    "ExecuteTime": {
     "end_time": "2023-07-17T20:04:29.677811Z",
     "start_time": "2023-07-17T20:04:29.673201Z"
    }
   }
  },
  {
   "cell_type": "code",
   "execution_count": 21,
   "outputs": [
    {
     "data": {
      "text/plain": "          DATE  MRTSSM4453USN\n0   1992-01-01           1509\n1   1992-02-01           1541\n2   1992-03-01           1597\n3   1992-04-01           1675\n4   1992-05-01           1822\n..         ...            ...\n335 2019-12-01           6630\n336 2020-01-01           4388\n337 2020-02-01           4533\n338 2020-03-01           5562\n339 2020-04-01           5207\n\n[340 rows x 2 columns]",
      "text/html": "<div>\n<style scoped>\n    .dataframe tbody tr th:only-of-type {\n        vertical-align: middle;\n    }\n\n    .dataframe tbody tr th {\n        vertical-align: top;\n    }\n\n    .dataframe thead th {\n        text-align: right;\n    }\n</style>\n<table border=\"1\" class=\"dataframe\">\n  <thead>\n    <tr style=\"text-align: right;\">\n      <th></th>\n      <th>DATE</th>\n      <th>MRTSSM4453USN</th>\n    </tr>\n  </thead>\n  <tbody>\n    <tr>\n      <th>0</th>\n      <td>1992-01-01</td>\n      <td>1509</td>\n    </tr>\n    <tr>\n      <th>1</th>\n      <td>1992-02-01</td>\n      <td>1541</td>\n    </tr>\n    <tr>\n      <th>2</th>\n      <td>1992-03-01</td>\n      <td>1597</td>\n    </tr>\n    <tr>\n      <th>3</th>\n      <td>1992-04-01</td>\n      <td>1675</td>\n    </tr>\n    <tr>\n      <th>4</th>\n      <td>1992-05-01</td>\n      <td>1822</td>\n    </tr>\n    <tr>\n      <th>...</th>\n      <td>...</td>\n      <td>...</td>\n    </tr>\n    <tr>\n      <th>335</th>\n      <td>2019-12-01</td>\n      <td>6630</td>\n    </tr>\n    <tr>\n      <th>336</th>\n      <td>2020-01-01</td>\n      <td>4388</td>\n    </tr>\n    <tr>\n      <th>337</th>\n      <td>2020-02-01</td>\n      <td>4533</td>\n    </tr>\n    <tr>\n      <th>338</th>\n      <td>2020-03-01</td>\n      <td>5562</td>\n    </tr>\n    <tr>\n      <th>339</th>\n      <td>2020-04-01</td>\n      <td>5207</td>\n    </tr>\n  </tbody>\n</table>\n<p>340 rows × 2 columns</p>\n</div>"
     },
     "execution_count": 21,
     "metadata": {},
     "output_type": "execute_result"
    }
   ],
   "source": [
    "sales"
   ],
   "metadata": {
    "collapsed": false,
    "ExecuteTime": {
     "end_time": "2023-07-17T20:04:32.956445Z",
     "start_time": "2023-07-17T20:04:32.952955Z"
    }
   }
  },
  {
   "cell_type": "code",
   "execution_count": 22,
   "outputs": [
    {
     "data": {
      "text/plain": "0     1992-01-01\n1     1992-02-01\n2     1992-03-01\n3     1992-04-01\n4     1992-05-01\n         ...    \n335   2019-12-01\n336   2020-01-01\n337   2020-02-01\n338   2020-03-01\n339   2020-04-01\nName: DATE, Length: 340, dtype: datetime64[ns]"
     },
     "execution_count": 22,
     "metadata": {},
     "output_type": "execute_result"
    }
   ],
   "source": [
    "sales['DATE']"
   ],
   "metadata": {
    "collapsed": false,
    "ExecuteTime": {
     "end_time": "2023-07-17T20:04:48.146607Z",
     "start_time": "2023-07-17T20:04:48.141883Z"
    }
   }
  },
  {
   "cell_type": "code",
   "execution_count": 23,
   "outputs": [],
   "source": [
    "sales = pd.read_csv('RetailSales_BeerWineLiquor.csv', parse_dates=[0])"
   ],
   "metadata": {
    "collapsed": false,
    "ExecuteTime": {
     "end_time": "2023-07-17T20:06:22.221715Z",
     "start_time": "2023-07-17T20:06:22.216876Z"
    }
   }
  },
  {
   "cell_type": "code",
   "execution_count": 24,
   "outputs": [
    {
     "data": {
      "text/plain": "0     1992-01-01\n1     1992-02-01\n2     1992-03-01\n3     1992-04-01\n4     1992-05-01\n         ...    \n335   2019-12-01\n336   2020-01-01\n337   2020-02-01\n338   2020-03-01\n339   2020-04-01\nName: DATE, Length: 340, dtype: datetime64[ns]"
     },
     "execution_count": 24,
     "metadata": {},
     "output_type": "execute_result"
    }
   ],
   "source": [
    "sales['DATE']"
   ],
   "metadata": {
    "collapsed": false,
    "ExecuteTime": {
     "end_time": "2023-07-17T20:06:30.484439Z",
     "start_time": "2023-07-17T20:06:30.481010Z"
    }
   }
  },
  {
   "cell_type": "code",
   "execution_count": 25,
   "outputs": [],
   "source": [
    "sales = sales.set_index(\"DATE\")"
   ],
   "metadata": {
    "collapsed": false,
    "ExecuteTime": {
     "end_time": "2023-07-17T20:07:24.087101Z",
     "start_time": "2023-07-17T20:07:24.083279Z"
    }
   }
  },
  {
   "cell_type": "code",
   "execution_count": 27,
   "outputs": [
    {
     "data": {
      "text/plain": "            MRTSSM4453USN\nDATE                     \n1992-12-31    1807.250000\n1993-12-31    1794.833333\n1994-12-31    1841.750000\n1995-12-31    1833.916667\n1996-12-31    1929.750000\n1997-12-31    2006.750000\n1998-12-31    2115.166667\n1999-12-31    2206.333333\n2000-12-31    2375.583333\n2001-12-31    2468.416667\n2002-12-31    2491.166667\n2003-12-31    2539.083333\n2004-12-31    2682.416667\n2005-12-31    2797.250000\n2006-12-31    3001.333333\n2007-12-31    3177.333333\n2008-12-31    3292.000000\n2009-12-31    3353.750000\n2010-12-31    3450.083333\n2011-12-31    3532.666667\n2012-12-31    3697.083333\n2013-12-31    3839.666667\n2014-12-31    4023.833333\n2015-12-31    4212.500000\n2016-12-31    4434.416667\n2017-12-31    4602.666667\n2018-12-31    4830.666667\n2019-12-31    4972.750000\n2020-12-31    4922.500000",
      "text/html": "<div>\n<style scoped>\n    .dataframe tbody tr th:only-of-type {\n        vertical-align: middle;\n    }\n\n    .dataframe tbody tr th {\n        vertical-align: top;\n    }\n\n    .dataframe thead th {\n        text-align: right;\n    }\n</style>\n<table border=\"1\" class=\"dataframe\">\n  <thead>\n    <tr style=\"text-align: right;\">\n      <th></th>\n      <th>MRTSSM4453USN</th>\n    </tr>\n    <tr>\n      <th>DATE</th>\n      <th></th>\n    </tr>\n  </thead>\n  <tbody>\n    <tr>\n      <th>1992-12-31</th>\n      <td>1807.250000</td>\n    </tr>\n    <tr>\n      <th>1993-12-31</th>\n      <td>1794.833333</td>\n    </tr>\n    <tr>\n      <th>1994-12-31</th>\n      <td>1841.750000</td>\n    </tr>\n    <tr>\n      <th>1995-12-31</th>\n      <td>1833.916667</td>\n    </tr>\n    <tr>\n      <th>1996-12-31</th>\n      <td>1929.750000</td>\n    </tr>\n    <tr>\n      <th>1997-12-31</th>\n      <td>2006.750000</td>\n    </tr>\n    <tr>\n      <th>1998-12-31</th>\n      <td>2115.166667</td>\n    </tr>\n    <tr>\n      <th>1999-12-31</th>\n      <td>2206.333333</td>\n    </tr>\n    <tr>\n      <th>2000-12-31</th>\n      <td>2375.583333</td>\n    </tr>\n    <tr>\n      <th>2001-12-31</th>\n      <td>2468.416667</td>\n    </tr>\n    <tr>\n      <th>2002-12-31</th>\n      <td>2491.166667</td>\n    </tr>\n    <tr>\n      <th>2003-12-31</th>\n      <td>2539.083333</td>\n    </tr>\n    <tr>\n      <th>2004-12-31</th>\n      <td>2682.416667</td>\n    </tr>\n    <tr>\n      <th>2005-12-31</th>\n      <td>2797.250000</td>\n    </tr>\n    <tr>\n      <th>2006-12-31</th>\n      <td>3001.333333</td>\n    </tr>\n    <tr>\n      <th>2007-12-31</th>\n      <td>3177.333333</td>\n    </tr>\n    <tr>\n      <th>2008-12-31</th>\n      <td>3292.000000</td>\n    </tr>\n    <tr>\n      <th>2009-12-31</th>\n      <td>3353.750000</td>\n    </tr>\n    <tr>\n      <th>2010-12-31</th>\n      <td>3450.083333</td>\n    </tr>\n    <tr>\n      <th>2011-12-31</th>\n      <td>3532.666667</td>\n    </tr>\n    <tr>\n      <th>2012-12-31</th>\n      <td>3697.083333</td>\n    </tr>\n    <tr>\n      <th>2013-12-31</th>\n      <td>3839.666667</td>\n    </tr>\n    <tr>\n      <th>2014-12-31</th>\n      <td>4023.833333</td>\n    </tr>\n    <tr>\n      <th>2015-12-31</th>\n      <td>4212.500000</td>\n    </tr>\n    <tr>\n      <th>2016-12-31</th>\n      <td>4434.416667</td>\n    </tr>\n    <tr>\n      <th>2017-12-31</th>\n      <td>4602.666667</td>\n    </tr>\n    <tr>\n      <th>2018-12-31</th>\n      <td>4830.666667</td>\n    </tr>\n    <tr>\n      <th>2019-12-31</th>\n      <td>4972.750000</td>\n    </tr>\n    <tr>\n      <th>2020-12-31</th>\n      <td>4922.500000</td>\n    </tr>\n  </tbody>\n</table>\n</div>"
     },
     "execution_count": 27,
     "metadata": {},
     "output_type": "execute_result"
    }
   ],
   "source": [
    "sales.resample(rule='A').mean()"
   ],
   "metadata": {
    "collapsed": false,
    "ExecuteTime": {
     "end_time": "2023-07-17T20:07:50.794393Z",
     "start_time": "2023-07-17T20:07:50.786334Z"
    }
   }
  },
  {
   "cell_type": "code",
   "execution_count": null,
   "outputs": [],
   "source": [],
   "metadata": {
    "collapsed": false
   }
  }
 ],
 "metadata": {
  "kernelspec": {
   "display_name": "Python 3",
   "language": "python",
   "name": "python3"
  },
  "language_info": {
   "codemirror_mode": {
    "name": "ipython",
    "version": 2
   },
   "file_extension": ".py",
   "mimetype": "text/x-python",
   "name": "python",
   "nbconvert_exporter": "python",
   "pygments_lexer": "ipython2",
   "version": "2.7.6"
  }
 },
 "nbformat": 4,
 "nbformat_minor": 0
}
